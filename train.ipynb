{
 "cells": [
  {
   "cell_type": "markdown",
   "metadata": {},
   "source": [
    "# Packages "
   ]
  },
  {
   "cell_type": "code",
   "execution_count": 4,
   "metadata": {},
   "outputs": [],
   "source": [
    "import torch\n",
    "import torch.optim as optim\n",
    "from torch.utils.data import Dataset, DataLoader\n",
    "from torchvision.datasets import MNIST\n",
    "from torchvision.transforms import ToTensor\n",
    "from tqdm import tqdm\n",
    "from time import time\n",
    "\n",
    "\n",
    "from models.LeNet import LeNet"
   ]
  },
  {
   "cell_type": "markdown",
   "metadata": {},
   "source": [
    "# Loading MNIST dataset"
   ]
  },
  {
   "cell_type": "code",
   "execution_count": 5,
   "metadata": {},
   "outputs": [],
   "source": [
    "train_ds = MNIST(root='./data', train=True, download=True, transform=ToTensor())\n",
    "test_ds = MNIST(root='./data', train=False, download=True, transform=ToTensor())"
   ]
  },
  {
   "cell_type": "markdown",
   "metadata": {},
   "source": [
    "# Without Fast Fourier Transform\n",
    "### Hyperparameters and training of the model"
   ]
  },
  {
   "cell_type": "code",
   "execution_count": 6,
   "metadata": {},
   "outputs": [
    {
     "name": "stderr",
     "output_type": "stream",
     "text": [
      "100%|██████████| 469/469 [00:15<00:00, 30.74it/s]\n",
      "100%|██████████| 469/469 [00:15<00:00, 31.24it/s]\n",
      "100%|██████████| 469/469 [00:14<00:00, 31.46it/s]\n",
      "100%|██████████| 469/469 [00:14<00:00, 31.33it/s]\n",
      "100%|██████████| 469/469 [00:14<00:00, 31.53it/s]\n",
      "100%|██████████| 469/469 [00:14<00:00, 31.55it/s]\n",
      "100%|██████████| 469/469 [00:14<00:00, 31.75it/s]\n",
      "100%|██████████| 469/469 [00:14<00:00, 31.93it/s]\n",
      "100%|██████████| 469/469 [00:14<00:00, 32.13it/s]\n",
      "100%|██████████| 469/469 [00:14<00:00, 32.07it/s]"
     ]
    },
    {
     "name": "stdout",
     "output_type": "stream",
     "text": [
      "Training time: 148.58s\n"
     ]
    },
    {
     "name": "stderr",
     "output_type": "stream",
     "text": [
      "\n"
     ]
    }
   ],
   "source": [
    "BATCH_SIZE = 128\n",
    "EPOCHS = 10\n",
    "\n",
    "model_base = LeNet(fourier=False)\n",
    "critereon = torch.nn.CrossEntropyLoss()\n",
    "optimizer = optim.Adam(model_base.parameters(), lr=1e-3)\n",
    "\n",
    "train_dl = DataLoader(train_ds, batch_size=BATCH_SIZE, shuffle=True)\n",
    "test_dl = DataLoader(test_ds, batch_size=BATCH_SIZE, shuffle=False)\n",
    "\n",
    "start_time = time()\n",
    "\n",
    "for epoch in range(EPOCHS):\n",
    "    for imgs, labels in tqdm(train_dl):\n",
    "        optimizer.zero_grad()\n",
    "        output = model_base(imgs)\n",
    "        loss = critereon(output, labels)\n",
    "        loss.backward()\n",
    "        optimizer.step()\n",
    "print(f'Training time: {time()-start_time:.2f}s')\n"
   ]
  },
  {
   "cell_type": "markdown",
   "metadata": {},
   "source": [
    "### Test of the model"
   ]
  },
  {
   "cell_type": "code",
   "execution_count": 7,
   "metadata": {},
   "outputs": [
    {
     "name": "stdout",
     "output_type": "stream",
     "text": [
      "Accuracy: 0.9828\n"
     ]
    }
   ],
   "source": [
    "with torch.no_grad():\n",
    "    total = 0\n",
    "    correct = 0\n",
    "    for imgs, labels in test_dl:\n",
    "        output = model_base(imgs)\n",
    "        _, predicted = torch.max(output.data, 1)\n",
    "        total += labels.size(0)\n",
    "        correct += (predicted == labels).sum().item()\n",
    "\n",
    "print(f'Accuracy: {correct/total:.4f}')"
   ]
  },
  {
   "cell_type": "markdown",
   "metadata": {},
   "source": [
    "# With Fast Fourier Transform\n",
    "### Hyperparameters and training of the model"
   ]
  },
  {
   "cell_type": "code",
   "execution_count": 8,
   "metadata": {},
   "outputs": [
    {
     "name": "stderr",
     "output_type": "stream",
     "text": [
      "100%|██████████| 469/469 [00:23<00:00, 20.29it/s]\n",
      "100%|██████████| 469/469 [00:23<00:00, 20.06it/s]\n",
      "100%|██████████| 469/469 [00:23<00:00, 19.90it/s]\n",
      "100%|██████████| 469/469 [00:23<00:00, 19.76it/s]\n",
      "100%|██████████| 469/469 [00:23<00:00, 19.56it/s]\n",
      "100%|██████████| 469/469 [00:23<00:00, 19.63it/s]\n",
      "100%|██████████| 469/469 [00:23<00:00, 19.58it/s]\n",
      "100%|██████████| 469/469 [00:23<00:00, 19.86it/s]\n",
      "100%|██████████| 469/469 [00:23<00:00, 19.68it/s]\n",
      "100%|██████████| 469/469 [00:23<00:00, 19.85it/s]"
     ]
    },
    {
     "name": "stdout",
     "output_type": "stream",
     "text": [
      "Training time: 236.71s\n"
     ]
    },
    {
     "name": "stderr",
     "output_type": "stream",
     "text": [
      "\n"
     ]
    }
   ],
   "source": [
    "BATCH_SIZE = 128\n",
    "EPOCHS = 10\n",
    "\n",
    "model_base = LeNet(fourier=True)\n",
    "critereon = torch.nn.CrossEntropyLoss()\n",
    "optimizer = optim.Adam(model_base.parameters(), lr=1e-3)\n",
    "\n",
    "train_dl = DataLoader(train_ds, batch_size=BATCH_SIZE, shuffle=True)\n",
    "test_dl = DataLoader(test_ds, batch_size=BATCH_SIZE, shuffle=False)\n",
    "\n",
    "start_time = time()\n",
    "\n",
    "for epoch in range(EPOCHS):\n",
    "    for imgs, labels in tqdm(train_dl):\n",
    "        optimizer.zero_grad()\n",
    "        output = model_base(imgs)\n",
    "        loss = critereon(output, labels)\n",
    "        loss.backward()\n",
    "        optimizer.step()\n",
    "\n",
    "print(f'Training time: {time()-start_time:.2f}s')"
   ]
  },
  {
   "cell_type": "markdown",
   "metadata": {},
   "source": [
    "### Test of the model"
   ]
  },
  {
   "cell_type": "code",
   "execution_count": 9,
   "metadata": {},
   "outputs": [
    {
     "name": "stdout",
     "output_type": "stream",
     "text": [
      "Accuracy: 0.9823\n"
     ]
    }
   ],
   "source": [
    "with torch.no_grad():\n",
    "    total = 0\n",
    "    correct = 0\n",
    "    for imgs, labels in test_dl:\n",
    "        output = model_base(imgs)\n",
    "        _, predicted = torch.max(output.data, 1)\n",
    "        total += labels.size(0)\n",
    "        correct += (predicted == labels).sum().item()\n",
    "\n",
    "print(f'Accuracy: {correct/total:.4f}')"
   ]
  }
 ],
 "metadata": {
  "kernelspec": {
   "display_name": "base",
   "language": "python",
   "name": "python3"
  },
  "language_info": {
   "codemirror_mode": {
    "name": "ipython",
    "version": 3
   },
   "file_extension": ".py",
   "mimetype": "text/x-python",
   "name": "python",
   "nbconvert_exporter": "python",
   "pygments_lexer": "ipython3",
   "version": "3.11.3"
  }
 },
 "nbformat": 4,
 "nbformat_minor": 2
}
